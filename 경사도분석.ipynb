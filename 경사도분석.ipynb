{
  "cells": [
    {
      "cell_type": "markdown",
      "metadata": {
        "id": "view-in-github",
        "colab_type": "text"
      },
      "source": [
        "<a href=\"https://colab.research.google.com/github/pwjdgus/Data_Analytics_for_Age_friendly_busan/blob/hopelee/%EA%B2%BD%EC%82%AC%EB%8F%84%EB%B6%84%EC%84%9D.ipynb\" target=\"_parent\"><img src=\"https://colab.research.google.com/assets/colab-badge.svg\" alt=\"Open In Colab\"/></a>"
      ]
    },
    {
      "cell_type": "code",
      "execution_count": null,
      "metadata": {
        "colab": {
          "base_uri": "https://localhost:8080/"
        },
        "id": "TaMYmTODv5Fd",
        "outputId": "2a0e4ef9-0c7f-4ac2-ae77-8b2185fbfaaf"
      },
      "outputs": [
        {
          "output_type": "stream",
          "name": "stdout",
          "text": [
            "Looking in indexes: https://pypi.org/simple, https://us-python.pkg.dev/colab-wheels/public/simple/\n",
            "Collecting googlemaps\n",
            "  Downloading googlemaps-4.6.0.tar.gz (31 kB)\n",
            "Requirement already satisfied: requests<3.0,>=2.20.0 in /usr/local/lib/python3.7/dist-packages (from googlemaps) (2.23.0)\n",
            "Requirement already satisfied: chardet<4,>=3.0.2 in /usr/local/lib/python3.7/dist-packages (from requests<3.0,>=2.20.0->googlemaps) (3.0.4)\n",
            "Requirement already satisfied: urllib3!=1.25.0,!=1.25.1,<1.26,>=1.21.1 in /usr/local/lib/python3.7/dist-packages (from requests<3.0,>=2.20.0->googlemaps) (1.24.3)\n",
            "Requirement already satisfied: certifi>=2017.4.17 in /usr/local/lib/python3.7/dist-packages (from requests<3.0,>=2.20.0->googlemaps) (2022.5.18.1)\n",
            "Requirement already satisfied: idna<3,>=2.5 in /usr/local/lib/python3.7/dist-packages (from requests<3.0,>=2.20.0->googlemaps) (2.10)\n",
            "Building wheels for collected packages: googlemaps\n",
            "  Building wheel for googlemaps (setup.py) ... \u001b[?25l\u001b[?25hdone\n",
            "  Created wheel for googlemaps: filename=googlemaps-4.6.0-py3-none-any.whl size=38554 sha256=dc67cfe82932d29b7878c8f0a1a8198aa75df4686e9c74c94a0a2225a526d36e\n",
            "  Stored in directory: /root/.cache/pip/wheels/80/db/c0/6d958585fa97b20e250bf437acf7e6e715b4809c2dd4e55367\n",
            "Successfully built googlemaps\n",
            "Installing collected packages: googlemaps\n",
            "Successfully installed googlemaps-4.6.0\n",
            "Looking in indexes: https://pypi.org/simple, https://us-python.pkg.dev/colab-wheels/public/simple/\n",
            "Collecting haversine\n",
            "  Downloading haversine-2.5.1-py2.py3-none-any.whl (6.1 kB)\n",
            "Installing collected packages: haversine\n",
            "Successfully installed haversine-2.5.1\n"
          ]
        }
      ],
      "source": [
        "!pip install googlemaps\n",
        "!pip install haversine\n",
        "import requests\n",
        "import googlemaps\n",
        "import pandas as pd"
      ]
    },
    {
      "cell_type": "code",
      "execution_count": null,
      "metadata": {
        "id": "wwpJTMUfyhO7"
      },
      "outputs": [],
      "source": [
        "# 중심지 [위도, 경도, 고도]\n",
        "kizang_pos= [35.23876594878238, 129.21575390899562, 28.18951225280762]\n",
        "Jeonggwan_pos = [35.3231, 129.1784, 59.41537094116211]\n",
        "Noksan_pos= [35.08562495305441, 128.87931646088754, 0]\n",
        "Myungji_pos = [35.10820208025592, 128.9264932285998, 0]"
      ]
    },
    {
      "cell_type": "code",
      "execution_count": null,
      "metadata": {
        "colab": {
          "base_uri": "https://localhost:8080/"
        },
        "id": "TNCKHt0tw07I",
        "outputId": "61fecc8f-3e9d-4c64-b4d8-19eac07080bc"
      },
      "outputs": [
        {
          "output_type": "stream",
          "name": "stdout",
          "text": [
            "1 부산광역시 기장군 기장읍 차성로 288번길 9-1\n",
            "                                    위도          경도\n",
            "부산광역시 기장군 기장읍 차성로 288번길 9-1  35.243387  129.214164\n"
          ]
        }
      ],
      "source": [
        "# google 지오코딩 API를 이용해서 위도, 경도 데이터 가져오기\n",
        "\n",
        "# my_key = \"본인이 발급받은 API키를 입력\"\n",
        "my_key = \"(본인의 Google Api Key)\"\n",
        "\n",
        "# 구글맵스 객체 생성하기\n",
        "maps = googlemaps.Client(key=my_key)  # my_key값 입력\n",
        "lat = []  # 위도\n",
        "lng = []  # 경도\n",
        "\n",
        "# 장소(또는 주소) 리스트\n",
        "places = [\"부산광역시 기장군 기장읍 차성로 288번길 9-1\"]\n",
        "\n",
        "i = 0\n",
        "for place in places:\n",
        "    i = i + 1\n",
        "    try:\n",
        "        print(i, place)\n",
        "\n",
        "    # 지오코딩 API 결과값 호출하여 geo_location 변수에 저장\n",
        "        geo_location = maps.geocode(place)[0].get('geometry')\n",
        "        lat.append(geo_location['location']['lat'])\n",
        "        lng.append(geo_location['location']['lng'])\n",
        "\n",
        "    except:\n",
        "        lat.append('')\n",
        "        lng.append('')\n",
        "        print(i)\n",
        "\n",
        "# 데이터프레임으로 변환하기\n",
        "df = pd.DataFrame({'위도': lat, '경도': lng}, index=places)\n",
        "print(df)"
      ]
    },
    {
      "cell_type": "code",
      "source": [
        "import json\n",
        "import math\n",
        "from haversine import haversine"
      ],
      "metadata": {
        "id": "gaKgpr1LOFm-"
      },
      "execution_count": null,
      "outputs": []
    },
    {
      "cell_type": "code",
      "execution_count": null,
      "metadata": {
        "colab": {
          "base_uri": "https://localhost:8080/"
        },
        "id": "6QHOw4Tzw3VI",
        "outputId": "83c7f1f4-84fb-436e-c180-0cddd2debf5a"
      },
      "outputs": [
        {
          "output_type": "stream",
          "name": "stdout",
          "text": [
            "고도 : 17.81886863708496\n"
          ]
        }
      ],
      "source": [
        "# 구글 api 이용하여 고도 계산\n",
        "url = f\"https://maps.googleapis.com/maps/api/elevation/json?locations={lat[0]}%2C{lng[0]}&key=(본인의 Google Api Key)\"\n",
        "    \n",
        "response = requests.get(url)\n",
        "jsonObj = json.loads(response.text)\n",
        "\n",
        "elevation = jsonObj[\"results\"][0][\"elevation\"] # 고도 값 url로부터 불러오기\n",
        "\n",
        "print(\"고도 :\",elevation)"
      ]
    },
    {
      "cell_type": "code",
      "execution_count": null,
      "metadata": {
        "colab": {
          "base_uri": "https://localhost:8080/"
        },
        "id": "09UyMEXDzKAP",
        "outputId": "bbd159b3-1193-4c75-9722-573ded1e7c6b"
      },
      "outputs": [
        {
          "output_type": "stream",
          "name": "stdout",
          "text": [
            "경사도 : 1.1130362636742126\n"
          ]
        }
      ],
      "source": [
        "# haversine 라이브러리 이용하여 두 지점(위도/경도) 간 직선 거리 구하기\n",
        "# 중심지(기장군) - 구한 장소(부산광역시 기장군 기장읍 차성로 288번길 9-1) 간 직선 거리\n",
        "straight_way = haversine((kizang_pos[0],kizang_pos[1]), (float(lat[0]),float(lng[0])), unit='m')\n",
        "\n",
        "# 고도 차\n",
        "h = math.sqrt((kizang_pos[2] - elevation)**2) # 음수 값 나오지 않게 하기 위해 제곱 후 루트\n",
        "\n",
        "# 경사 길이\n",
        "slope = math.sqrt(straight_way**2 + h**2) # 피타고라스 이용\n",
        "\n",
        "# 경사도\n",
        "rad = math.atan2(h, straight_way) # 아크 탄젠트(역함수)를 이용하여 각도를 라디안 값으로 구함.\n",
        "deg = (rad*180)/math.pi # 라디안 값을 degree로 변형\n",
        "\n",
        "print(\"경사도 :\",deg)"
      ]
    },
    {
      "cell_type": "code",
      "source": [
        "import csv, json\n",
        "import requests"
      ],
      "metadata": {
        "id": "nqqlI-HerdvA"
      },
      "execution_count": 1,
      "outputs": []
    },
    {
      "cell_type": "code",
      "source": [
        "# 고도 구하는 메서드\n",
        "def findElevation(data) :           \n",
        "    latitude = float(data[4])       # 위도         -> 위도가 적힌 열을 index로 해야함\n",
        "    longitude = float(data[5])      # 경도         -> 경도가 적힌 열을 index로 해야함\n",
        "    url = f\"https://maps.googleapis.com/maps/api/elevation/json?locations={latitude}%2C{longitude}4&key=(본인의 Google Api Key)\" \n",
        "    response = requests.get(url)\n",
        "    jsonObj = json.loads(response.text)\n",
        "    elevation = jsonObj[\"results\"][0][\"elevation\"]\n",
        "    return elevation                \n",
        "\n",
        "f = open('/content/부산광역시_경로당 현황_20201231.csv', encoding='cp949')  \n",
        "reader = csv.reader(f)              #csv파일 읽어오기\n",
        "\n",
        "data = list()                       # 고도 저장하는 list\n",
        "for i in reader :\n",
        "  data.append(findElevation(i))\n",
        "print(data)"
      ],
      "metadata": {
        "id": "XzxhRFOMrd6J"
      },
      "execution_count": null,
      "outputs": []
    }
  ],
  "metadata": {
    "colab": {
      "name": "경사도",
      "provenance": [],
      "collapsed_sections": [],
      "include_colab_link": true
    },
    "kernelspec": {
      "display_name": "Python 3",
      "name": "python3"
    },
    "language_info": {
      "name": "python"
    }
  },
  "nbformat": 4,
  "nbformat_minor": 0
}
